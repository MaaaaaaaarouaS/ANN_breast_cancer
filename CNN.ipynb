{
  "nbformat": 4,
  "nbformat_minor": 0,
  "metadata": {
    "colab": {
      "name": "CNN.ipynb",
      "provenance": []
    },
    "kernelspec": {
      "name": "python3",
      "display_name": "Python 3"
    },
    "language_info": {
      "name": "python"
    }
  },
  "cells": [
    {
      "cell_type": "code",
      "metadata": {
        "id": "XInhLEkZjyw9"
      },
      "source": [
        "#site de simulation d'un RNN:http://www.cs.cmu.edu/~aharley/vis/conv/flat.html\n",
        "import tensorflow as tf\n",
        "#importer le modèle séquentiel\n",
        "from tensorflow.keras.models import Sequential\n",
        "import numpy as np\n",
        "import matplotlib.pyplot as plt\n",
        "#importer une base de donnée préinstallé sur kiras\n",
        "from tensorflow.keras.datasets import cifar10\n",
        "#importer le package qui permet de géer les images\n",
        "from tensorflow.keras.preprocessing.image import ImageDataGenerator\n",
        "#importer les pachages responsables sur les couches\n",
        "from tensorflow.keras.layers import Dense,Activation,Flatten,Conv2D,MaxPooling2D"
      ],
      "execution_count": null,
      "outputs": []
    },
    {
      "cell_type": "markdown",
      "metadata": {
        "id": "-iE5JbRWvm8M"
      },
      "source": [
        "**Préparation des données**"
      ]
    },
    {
      "cell_type": "code",
      "metadata": {
        "id": "vZN1B2NYvbuO"
      },
      "source": [
        "#chargement de la base de données\n",
        "#integrer directement la bd dans la parti test et la parti train\n",
        "(x_train,y_train),(x_test,y_test)=cifar10.load_data()"
      ],
      "execution_count": null,
      "outputs": []
    },
    {
      "cell_type": "code",
      "metadata": {
        "colab": {
          "base_uri": "https://localhost:8080/",
          "height": 283
        },
        "id": "mpxYbWshxK_6",
        "outputId": "c6bf01cd-97aa-4bfe-8a6b-fad47cede5c5"
      },
      "source": [
        "#découvrir la bd\n",
        "plt.imshow(x_train[9])"
      ],
      "execution_count": null,
      "outputs": [
        {
          "output_type": "execute_result",
          "data": {
            "text/plain": [
              "<matplotlib.image.AxesImage at 0x7f363198b790>"
            ]
          },
          "metadata": {},
          "execution_count": 24
        },
        {
          "output_type": "display_data",
          "data": {
            "image/png": "[encoded data removed]",
            "text/plain": [
              "<Figure size 432x288 with 1 Axes>"
            ]
          },
          "metadata": {
            "needs_background": "light"
          }
        }
      ]
    },
    {
      "cell_type": "code",
      "metadata": {
        "colab": {
          "base_uri": "https://localhost:8080/"
        },
        "id": "EbDcQZHy_gP4",
        "outputId": "a2f44a8d-7621-48a9-c623-9018adc70a75"
      },
      "source": [
        "x_train[9]"
      ],
      "execution_count": null,
      "outputs": [
        {
          "output_type": "execute_result",
          "data": {
            "text/plain": [
              "array([[[125, 125, 116],\n",
              "        [110, 101,  91],\n",
              "        [102,  90,  83],\n",
              "        ...,\n",
              "        [202, 207, 214],\n",
              "        [200, 205, 212],\n",
              "        [202, 208, 214]],\n",
              "\n",
              "       [[142, 146, 142],\n",
              "        [146, 144, 139],\n",
              "        [176, 172, 170],\n",
              "        ...,\n",
              "        [195, 201, 205],\n",
              "        [198, 205, 209],\n",
              "        [204, 211, 215]],\n",
              "\n",
              "       [[180, 185, 183],\n",
              "        [143, 146, 146],\n",
              "        [156, 157, 157],\n",
              "        ...,\n",
              "        [122, 111, 113],\n",
              "        [139, 128, 131],\n",
              "        [158, 147, 150]],\n",
              "\n",
              "       ...,\n",
              "\n",
              "       [[104,  82,  41],\n",
              "        [101,  80,  39],\n",
              "        [101,  81,  38],\n",
              "        ...,\n",
              "        [126, 103,  67],\n",
              "        [126, 103,  69],\n",
              "        [125, 101,  68]],\n",
              "\n",
              "       [[104,  81,  40],\n",
              "        [105,  84,  41],\n",
              "        [109,  88,  43],\n",
              "        ...,\n",
              "        [138, 113,  78],\n",
              "        [137, 113,  80],\n",
              "        [137, 112,  81]],\n",
              "\n",
              "       [[105,  83,  42],\n",
              "        [108,  87,  45],\n",
              "        [115,  94,  50],\n",
              "        ...,\n",
              "        [143, 117,  82],\n",
              "        [143, 116,  84],\n",
              "        [144, 116,  86]]], dtype=uint8)"
            ]
          },
          "metadata": {},
          "execution_count": 25
        }
      ]
    },
    {
      "cell_type": "markdown",
      "metadata": {
        "id": "XB6ifNRTBYVe"
      },
      "source": [
        "on remaruqe que les chiffres ne sont pas entre 0 et 1 donc on a besoin de normaliser les photos"
      ]
    },
    {
      "cell_type": "code",
      "metadata": {
        "id": "yb3H77cM1OXL"
      },
      "source": [
        "#Normaliser les photos en divisant sur la valeur maximale pour avoir des valeurs entre 0 et 1\n",
        "x_train=x_train/255.0\n",
        "x_test=x_test/225.0"
      ],
      "execution_count": null,
      "outputs": []
    },
    {
      "cell_type": "code",
      "metadata": {
        "colab": {
          "base_uri": "https://localhost:8080/"
        },
        "id": "qjegAoH0AVDI",
        "outputId": "9fbcb49d-fb1d-4842-959d-bfae297490c0"
      },
      "source": [
        "x_train[3]"
      ],
      "execution_count": null,
      "outputs": [
        {
          "output_type": "execute_result",
          "data": {
            "text/plain": [
              "array([[[0.10980392, 0.09803922, 0.03921569],\n",
              "        [0.14509804, 0.13333333, 0.0745098 ],\n",
              "        [0.14901961, 0.1372549 , 0.07843137],\n",
              "        ...,\n",
              "        [0.29803922, 0.2627451 , 0.15294118],\n",
              "        [0.31764706, 0.28235294, 0.16862745],\n",
              "        [0.33333333, 0.29803922, 0.18431373]],\n",
              "\n",
              "       [[0.12941176, 0.10980392, 0.05098039],\n",
              "        [0.13333333, 0.11764706, 0.05490196],\n",
              "        [0.1254902 , 0.10588235, 0.04705882],\n",
              "        ...,\n",
              "        [0.37254902, 0.32156863, 0.21568627],\n",
              "        [0.37647059, 0.32156863, 0.21960784],\n",
              "        [0.33333333, 0.28235294, 0.17647059]],\n",
              "\n",
              "       [[0.15294118, 0.1254902 , 0.05882353],\n",
              "        [0.15686275, 0.12941176, 0.06666667],\n",
              "        [0.22352941, 0.19607843, 0.12941176],\n",
              "        ...,\n",
              "        [0.36470588, 0.29803922, 0.20392157],\n",
              "        [0.41960784, 0.34901961, 0.25882353],\n",
              "        [0.37254902, 0.30196078, 0.21176471]],\n",
              "\n",
              "       ...,\n",
              "\n",
              "       [[0.3254902 , 0.28627451, 0.20392157],\n",
              "        [0.34117647, 0.30196078, 0.21960784],\n",
              "        [0.32941176, 0.29019608, 0.20392157],\n",
              "        ...,\n",
              "        [0.38823529, 0.36470588, 0.2745098 ],\n",
              "        [0.35294118, 0.32941176, 0.23921569],\n",
              "        [0.31764706, 0.29411765, 0.20392157]],\n",
              "\n",
              "       [[0.34509804, 0.28235294, 0.2       ],\n",
              "        [0.35294118, 0.29019608, 0.20392157],\n",
              "        [0.36470588, 0.30196078, 0.21960784],\n",
              "        ...,\n",
              "        [0.31372549, 0.29019608, 0.20784314],\n",
              "        [0.29803922, 0.2745098 , 0.19215686],\n",
              "        [0.32156863, 0.29803922, 0.21568627]],\n",
              "\n",
              "       [[0.38039216, 0.30588235, 0.21960784],\n",
              "        [0.36862745, 0.29411765, 0.20784314],\n",
              "        [0.36470588, 0.29411765, 0.20784314],\n",
              "        ...,\n",
              "        [0.21176471, 0.18431373, 0.10980392],\n",
              "        [0.24705882, 0.21960784, 0.14509804],\n",
              "        [0.28235294, 0.25490196, 0.18039216]]])"
            ]
          },
          "metadata": {},
          "execution_count": 27
        }
      ]
    },
    {
      "cell_type": "markdown",
      "metadata": {
        "id": "LkleMFSeAaEh"
      },
      "source": [
        "on ramarque que tout est entre 0 et 1"
      ]
    },
    {
      "cell_type": "code",
      "metadata": {
        "id": "j5JlUriJAfsU"
      },
      "source": [
        "#Créer mon modèle\n",
        "model=Sequential()"
      ],
      "execution_count": null,
      "outputs": []
    },
    {
      "cell_type": "code",
      "metadata": {
        "colab": {
          "base_uri": "https://localhost:8080/"
        },
        "id": "AgV6UVwCIirc",
        "outputId": "35c1f276-aa7c-48b0-9c6e-0fcb3597f7f7"
      },
      "source": [
        "x_train.shape"
      ],
      "execution_count": null,
      "outputs": [
        {
          "output_type": "execute_result",
          "data": {
            "text/plain": [
              "(50000, 32, 32, 3)"
            ]
          },
          "metadata": {},
          "execution_count": 29
        }
      ]
    },
    {
      "cell_type": "markdown",
      "metadata": {
        "id": "3kTylTtXImQY"
      },
      "source": [
        "NB:50000 est le nbr d'images dans la base de donnée/\n",
        "(32,32) est la taille de l'image/\n",
        "3 est pr le code RGB (code couleur)"
      ]
    },
    {
      "cell_type": "code",
      "metadata": {
        "colab": {
          "base_uri": "https://localhost:8080/"
        },
        "id": "f7quHJfTJCM2",
        "outputId": "b6649569-2fca-43ef-ff63-13193df9465e"
      },
      "source": [
        "x_train.shape[1:]"
      ],
      "execution_count": null,
      "outputs": [
        {
          "output_type": "execute_result",
          "data": {
            "text/plain": [
              "(32, 32, 3)"
            ]
          },
          "metadata": {},
          "execution_count": 30
        }
      ]
    },
    {
      "cell_type": "code",
      "metadata": {
        "id": "hYne363yBmc0"
      },
      "source": [
        "#Creer le réseau de convolution (CNN)\n",
        "#on commence par la creation de la couche de convolution(ou on indique le nbr de filtre qui est 256,et la taille du filtre qui est (3,3)(changeable))\n",
        "#on est dans la 1er couche donc on doit distinguer la taille de l'entrée(taille de la photo)\n",
        "model.add(Conv2D(256,(3,3),input_shape=x_train.shape[1:]))\n",
        "#NB: on a mis le 1 pour ne pas prendre la taille de toute la base de donnée(on prend juste la taille du photo qui est 32*32*3)\n",
        "model.add(Activation('relu'))"
      ],
      "execution_count": null,
      "outputs": []
    },
    {
      "cell_type": "code",
      "metadata": {
        "id": "ZUBdSKgbNLBn"
      },
      "source": [
        "#NB:dans le maxPoolng on spécifie la taille du pool(i-e la taille du careau qu'on spécifie et ou on choisi la taille maximale)\n",
        "model.add(MaxPooling2D(pool_size=(2,2)))"
      ],
      "execution_count": null,
      "outputs": []
    },
    {
      "cell_type": "code",
      "metadata": {
        "id": "_JOBTxjO_O38"
      },
      "source": [
        "#on peut ameliorer la précision on ajoutant une autre couche de convolution\n",
        "model.add(Conv2D(256,(3,3)))\n",
        "model.add(Activation('relu'))\n",
        "model.add(MaxPooling2D(pool_size=(2,2)))"
      ],
      "execution_count": null,
      "outputs": []
    },
    {
      "cell_type": "code",
      "metadata": {
        "id": "rd80uIlVmthB"
      },
      "source": [
        "model.add(Flatten())#ICI on est pas trop interessé à la taille donc on laisse ça ouvert"
      ],
      "execution_count": null,
      "outputs": []
    },
    {
      "cell_type": "code",
      "metadata": {
        "id": "Q6gDZ6QDoz6X"
      },
      "source": [
        "model.add(Dense(64))#noeuds d'entrés\n",
        "model.add(Dense(10))#couche de sortie contient 10 noeuds car on a 10 categories de photo(voir le site de photo)\n",
        "model.add(Activation('sigmoid'))#on a choisi la fct d'activation sigmoid car on a des 0 et des 1\n",
        "model.compile(loss=\"sparse_cat\") \n",
        "#dans le cas ou on a plusieurs catégories on utilise la fct de perte suivante :sparse_categorical_crossentropy\n",
        "model.compile(loss='sparse_categorical_crossentropy',optimizer=\"Adam\",metrics='sparse_categorical_accuracy')#optimizer pour gérer les poids dans notre réseau"
      ],
      "execution_count": null,
      "outputs": []
    },
    {
      "cell_type": "code",
      "metadata": {
        "colab": {
          "base_uri": "https://localhost:8080/"
        },
        "id": "GS0FknV5AIFx",
        "outputId": "bc0ef188-86a4-4286-9094-929fc3e7343a"
      },
      "source": [
        "#faire une systhèse de mon réseau\n",
        "model.summary()"
      ],
      "execution_count": null,
      "outputs": [
        {
          "output_type": "stream",
          "name": "stdout",
          "text": [
            "Model: \"sequential_1\"\n",
            "_________________________________________________________________\n",
            " Layer (type)                Output Shape              Param #   \n",
            "=================================================================\n",
            " conv2d_5 (Conv2D)           (None, 30, 30, 256)       7168      \n",
            "                                                                 \n",
            " activation_2 (Activation)   (None, 30, 30, 256)       0         \n",
            "                                                                 \n",
            " max_pooling2d_1 (MaxPooling  (None, 15, 15, 256)      0         \n",
            " 2D)                                                             \n",
            "                                                                 \n",
            " conv2d_6 (Conv2D)           (None, 13, 13, 256)       590080    \n",
            "                                                                 \n",
            " activation_3 (Activation)   (None, 13, 13, 256)       0         \n",
            "                                                                 \n",
            " max_pooling2d_2 (MaxPooling  (None, 6, 6, 256)        0         \n",
            " 2D)                                                             \n",
            "                                                                 \n",
            " flatten_1 (Flatten)         (None, 9216)              0         \n",
            "                                                                 \n",
            " dense_2 (Dense)             (None, 64)                589888    \n",
            "                                                                 \n",
            " dense_3 (Dense)             (None, 10)                650       \n",
            "                                                                 \n",
            " activation_4 (Activation)   (None, 10)                0         \n",
            "                                                                 \n",
            "=================================================================\n",
            "Total params: 1,187,786\n",
            "Trainable params: 1,187,786\n",
            "Non-trainable params: 0\n",
            "_________________________________________________________________\n"
          ]
        }
      ]
    },
    {
      "cell_type": "code",
      "metadata": {
        "colab": {
          "base_uri": "https://localhost:8080/"
        },
        "id": "dgdyLpDYD47l",
        "outputId": "f35f14d0-a815-4b97-d6e4-108bb2fe1049"
      },
      "source": [
        "model.fit(x_train,y_train,batch_size=32,epochs=10)"
      ],
      "execution_count": null,
      "outputs": [
        {
          "output_type": "stream",
          "name": "stdout",
          "text": [
            "Epoch 1/10\n",
            "1563/1563 [==============================] - 735s 470ms/step - loss: 1.3865 - sparse_categorical_accuracy: 0.5061\n",
            "Epoch 2/10\n",
            "1563/1563 [==============================] - 723s 463ms/step - loss: 1.0695 - sparse_categorical_accuracy: 0.6285\n",
            "Epoch 3/10\n",
            "1563/1563 [==============================] - 725s 464ms/step - loss: 0.9632 - sparse_categorical_accuracy: 0.6663\n",
            "Epoch 4/10\n",
            "1563/1563 [==============================] - 723s 462ms/step - loss: 0.8910 - sparse_categorical_accuracy: 0.6923\n",
            "Epoch 5/10\n",
            "1563/1563 [==============================] - 722s 462ms/step - loss: 0.8451 - sparse_categorical_accuracy: 0.7087\n",
            "Epoch 6/10\n",
            "1563/1563 [==============================] - 718s 460ms/step - loss: 0.8054 - sparse_categorical_accuracy: 0.7205\n",
            "Epoch 7/10\n",
            "1563/1563 [==============================] - 713s 456ms/step - loss: 0.7673 - sparse_categorical_accuracy: 0.7321\n",
            "Epoch 8/10\n",
            "1563/1563 [==============================] - 714s 457ms/step - loss: 0.7384 - sparse_categorical_accuracy: 0.7434\n",
            "Epoch 9/10\n",
            "1563/1563 [==============================] - 718s 460ms/step - loss: 0.7182 - sparse_categorical_accuracy: 0.7522\n",
            "Epoch 10/10\n",
            "1563/1563 [==============================] - 714s 457ms/step - loss: 0.6928 - sparse_categorical_accuracy: 0.7593\n"
          ]
        },
        {
          "output_type": "execute_result",
          "data": {
            "text/plain": [
              "<keras.callbacks.History at 0x7f3632f0b7d0>"
            ]
          },
          "metadata": {},
          "execution_count": 37
        }
      ]
    },
    {
      "cell_type": "code",
      "metadata": {
        "colab": {
          "base_uri": "https://localhost:8080/"
        },
        "id": "Cq1SL4sg9gIr",
        "outputId": "1374fc62-e50a-436c-d013-1d4353436921"
      },
      "source": [
        "#voir la précision de notre réseau de neurone\n",
        "test_loss,test_accuracy=model.evaluate(x_test,y_test)"
      ],
      "execution_count": null,
      "outputs": [
        {
          "output_type": "stream",
          "name": "stdout",
          "text": [
            "313/313 [==============================] - 36s 115ms/step - loss: 0.9238 - sparse_categorical_accuracy: 0.6950\n"
          ]
        }
      ]
    }
  ]
}